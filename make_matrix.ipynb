{
 "cells": [
  {
   "cell_type": "markdown",
   "metadata": {},
   "source": [
    "# Generate the matrix based on log2Foldchange"
   ]
  },
  {
   "cell_type": "code",
   "execution_count": 1,
   "metadata": {
    "collapsed": true
   },
   "outputs": [
    {
     "data": {
      "text/markdown": [
       "**Type the log2fold change, press Enter**"
      ],
      "text/plain": [
       "<IPython.core.display.Markdown object>"
      ]
     },
     "metadata": {},
     "output_type": "display_data"
    },
    {
     "name": "stdout",
     "output_type": "stream",
     "text": [
      "-0.58\n"
     ]
    },
    {
     "data": {
      "text/markdown": [
       "**Select the transcript type and click on Run**"
      ],
      "text/plain": [
       "<IPython.core.display.Markdown object>"
      ]
     },
     "metadata": {},
     "output_type": "display_data"
    },
    {
     "data": {
      "application/vnd.jupyter.widget-view+json": {
       "model_id": "623681d0ad9c40baa65c7c6e2972839c",
       "version_major": 2,
       "version_minor": 0
      },
      "text/plain": [
       "Dropdown(options=('mRNA', 'lncRNA', 'lncRNA + mRNA'), value='mRNA')"
      ]
     },
     "metadata": {},
     "output_type": "display_data"
    }
   ],
   "source": [
    "import pandas as pd\n",
    "import matplotlib.pyplot as plt\n",
    "import glob\n",
    "import numpy as np\n",
    "from ipywidgets import widgets\n",
    "from IPython.display import Markdown, display\n",
    "\n",
    "def printmd(string):\n",
    "    display(Markdown(string))\n",
    "    \n",
    "# Display output text box widget (will populate when value submitted in input)\n",
    "printmd(\"**Type the log2fold change, press Enter**\")\n",
    "name=input() \n",
    "\n",
    "\n",
    "transcript = widgets.Dropdown(options = ['mRNA', 'lncRNA', 'lncRNA + mRNA'])\n",
    "printmd(\"**Select the transcript type and click on Run**\")\n",
    "display(transcript)\n",
    "\n"
   ]
  },
  {
   "cell_type": "code",
   "execution_count": 156,
   "metadata": {
    "collapsed": true
   },
   "outputs": [
    {
     "data": {
      "text/markdown": [
       "**Select the transcript type**"
      ],
      "text/plain": [
       "<IPython.core.display.Markdown object>"
      ]
     },
     "metadata": {},
     "output_type": "display_data"
    },
    {
     "data": {
      "application/vnd.jupyter.widget-view+json": {
       "model_id": "56eec91da72b428c920d4e312774c48c",
       "version_major": 2,
       "version_minor": 0
      },
      "text/plain": [
       "Dropdown(options=('mRNA', 'lncRNA', 'lncRNA + mRNA'), value='mRNA')"
      ]
     },
     "metadata": {},
     "output_type": "display_data"
    },
    {
     "data": {
      "text/markdown": [
       "**Cut-off:**"
      ],
      "text/plain": [
       "<IPython.core.display.Markdown object>"
      ]
     },
     "metadata": {},
     "output_type": "display_data"
    },
    {
     "name": "stdout",
     "output_type": "stream",
     "text": [
      "-0.58\n"
     ]
    },
    {
     "data": {
      "text/html": [
       "<div>\n",
       "<style scoped>\n",
       "    .dataframe tbody tr th:only-of-type {\n",
       "        vertical-align: middle;\n",
       "    }\n",
       "\n",
       "    .dataframe tbody tr th {\n",
       "        vertical-align: top;\n",
       "    }\n",
       "\n",
       "    .dataframe thead th {\n",
       "        text-align: right;\n",
       "    }\n",
       "</style>\n",
       "<table border=\"1\" class=\"dataframe\">\n",
       "  <thead>\n",
       "    <tr style=\"text-align: right;\">\n",
       "      <th></th>\n",
       "      <th>CL40</th>\n",
       "      <th>COLO320</th>\n",
       "      <th>GTG7</th>\n",
       "      <th>HT55</th>\n",
       "      <th>HUTU80</th>\n",
       "      <th>LOVO</th>\n",
       "      <th>LS180</th>\n",
       "      <th>LS411</th>\n",
       "      <th>MDST8</th>\n",
       "      <th>SW1463</th>\n",
       "      <th>label</th>\n",
       "      <th>Count Overlap</th>\n",
       "    </tr>\n",
       "  </thead>\n",
       "  <tbody>\n",
       "    <tr>\n",
       "      <th>NM_021103</th>\n",
       "      <td>-3.376571</td>\n",
       "      <td>-2.940238</td>\n",
       "      <td>-1.757715</td>\n",
       "      <td>-1.995440</td>\n",
       "      <td>0.337592</td>\n",
       "      <td>-1.113494</td>\n",
       "      <td>-1.008932</td>\n",
       "      <td>0.010219</td>\n",
       "      <td>-0.867050</td>\n",
       "      <td>-1.167274</td>\n",
       "      <td>[CL40, COLO320, GTG7, HT55, LOVO, LS180, MDST8...</td>\n",
       "      <td>8</td>\n",
       "    </tr>\n",
       "    <tr>\n",
       "      <th>NM_002165</th>\n",
       "      <td>-1.181748</td>\n",
       "      <td>0.344808</td>\n",
       "      <td>-0.730505</td>\n",
       "      <td>-1.497162</td>\n",
       "      <td>-1.164779</td>\n",
       "      <td>-1.004176</td>\n",
       "      <td>-2.316883</td>\n",
       "      <td>-0.714432</td>\n",
       "      <td>-1.417058</td>\n",
       "      <td>0.575379</td>\n",
       "      <td>[CL40, GTG7, HT55, HUTU80, LOVO, LS180, LS411,...</td>\n",
       "      <td>8</td>\n",
       "    </tr>\n",
       "    <tr>\n",
       "      <th>NM_002513</th>\n",
       "      <td>1.020166</td>\n",
       "      <td>-1.138803</td>\n",
       "      <td>-1.072349</td>\n",
       "      <td>-2.902673</td>\n",
       "      <td>-1.190006</td>\n",
       "      <td>-1.635652</td>\n",
       "      <td>-0.406431</td>\n",
       "      <td>-1.791223</td>\n",
       "      <td>-1.933246</td>\n",
       "      <td>-2.029388</td>\n",
       "      <td>[COLO320, GTG7, HT55, HUTU80, LOVO, LS411, MDS...</td>\n",
       "      <td>8</td>\n",
       "    </tr>\n",
       "    <tr>\n",
       "      <th>NM_001039842</th>\n",
       "      <td>3.299277</td>\n",
       "      <td>-0.724057</td>\n",
       "      <td>-0.758224</td>\n",
       "      <td>-0.250184</td>\n",
       "      <td>-1.358259</td>\n",
       "      <td>-1.612723</td>\n",
       "      <td>-0.665963</td>\n",
       "      <td>-1.062795</td>\n",
       "      <td>-2.541358</td>\n",
       "      <td>-1.150794</td>\n",
       "      <td>[COLO320, GTG7, HUTU80, LOVO, LS180, LS411, MD...</td>\n",
       "      <td>8</td>\n",
       "    </tr>\n",
       "    <tr>\n",
       "      <th>NM_199246</th>\n",
       "      <td>-1.157603</td>\n",
       "      <td>-0.853996</td>\n",
       "      <td>0.939694</td>\n",
       "      <td>-1.765926</td>\n",
       "      <td>0.000000</td>\n",
       "      <td>-0.832885</td>\n",
       "      <td>-0.759741</td>\n",
       "      <td>0.212621</td>\n",
       "      <td>-0.831559</td>\n",
       "      <td>-0.979851</td>\n",
       "      <td>[CL40, COLO320, HT55, LOVO, LS180, MDST8, SW1463]</td>\n",
       "      <td>7</td>\n",
       "    </tr>\n",
       "    <tr>\n",
       "      <th>...</th>\n",
       "      <td>...</td>\n",
       "      <td>...</td>\n",
       "      <td>...</td>\n",
       "      <td>...</td>\n",
       "      <td>...</td>\n",
       "      <td>...</td>\n",
       "      <td>...</td>\n",
       "      <td>...</td>\n",
       "      <td>...</td>\n",
       "      <td>...</td>\n",
       "      <td>...</td>\n",
       "      <td>...</td>\n",
       "    </tr>\n",
       "    <tr>\n",
       "      <th>NM_004185</th>\n",
       "      <td>-0.348659</td>\n",
       "      <td>-0.152684</td>\n",
       "      <td>-0.834357</td>\n",
       "      <td>0.765374</td>\n",
       "      <td>0.000000</td>\n",
       "      <td>0.000000</td>\n",
       "      <td>0.000000</td>\n",
       "      <td>0.000000</td>\n",
       "      <td>0.000000</td>\n",
       "      <td>1.488374</td>\n",
       "      <td>[GTG7]</td>\n",
       "      <td>1</td>\n",
       "    </tr>\n",
       "    <tr>\n",
       "      <th>NM_004232</th>\n",
       "      <td>0.000000</td>\n",
       "      <td>0.000000</td>\n",
       "      <td>0.000000</td>\n",
       "      <td>0.000000</td>\n",
       "      <td>0.000000</td>\n",
       "      <td>0.000000</td>\n",
       "      <td>-0.650310</td>\n",
       "      <td>0.000000</td>\n",
       "      <td>0.000000</td>\n",
       "      <td>0.000000</td>\n",
       "      <td>[LS180]</td>\n",
       "      <td>1</td>\n",
       "    </tr>\n",
       "    <tr>\n",
       "      <th>NM_004217</th>\n",
       "      <td>0.312928</td>\n",
       "      <td>0.821141</td>\n",
       "      <td>-0.488065</td>\n",
       "      <td>0.628933</td>\n",
       "      <td>-0.602056</td>\n",
       "      <td>-0.073617</td>\n",
       "      <td>0.690702</td>\n",
       "      <td>0.324438</td>\n",
       "      <td>-0.001701</td>\n",
       "      <td>0.000000</td>\n",
       "      <td>[HUTU80]</td>\n",
       "      <td>1</td>\n",
       "    </tr>\n",
       "    <tr>\n",
       "      <th>NM_004226</th>\n",
       "      <td>-0.195291</td>\n",
       "      <td>0.000000</td>\n",
       "      <td>0.577943</td>\n",
       "      <td>0.032632</td>\n",
       "      <td>0.000000</td>\n",
       "      <td>-0.166023</td>\n",
       "      <td>-0.051205</td>\n",
       "      <td>0.419706</td>\n",
       "      <td>-1.029061</td>\n",
       "      <td>0.000000</td>\n",
       "      <td>[MDST8]</td>\n",
       "      <td>1</td>\n",
       "    </tr>\n",
       "    <tr>\n",
       "      <th>NM_004220</th>\n",
       "      <td>0.000000</td>\n",
       "      <td>0.000000</td>\n",
       "      <td>-0.566173</td>\n",
       "      <td>0.000000</td>\n",
       "      <td>0.000000</td>\n",
       "      <td>0.000000</td>\n",
       "      <td>0.000000</td>\n",
       "      <td>0.000000</td>\n",
       "      <td>-2.333384</td>\n",
       "      <td>0.000000</td>\n",
       "      <td>[MDST8]</td>\n",
       "      <td>1</td>\n",
       "    </tr>\n",
       "  </tbody>\n",
       "</table>\n",
       "<p>7083 rows × 12 columns</p>\n",
       "</div>"
      ],
      "text/plain": [
       "                  CL40   COLO320      GTG7      HT55    HUTU80      LOVO  \\\n",
       "NM_021103    -3.376571 -2.940238 -1.757715 -1.995440  0.337592 -1.113494   \n",
       "NM_002165    -1.181748  0.344808 -0.730505 -1.497162 -1.164779 -1.004176   \n",
       "NM_002513     1.020166 -1.138803 -1.072349 -2.902673 -1.190006 -1.635652   \n",
       "NM_001039842  3.299277 -0.724057 -0.758224 -0.250184 -1.358259 -1.612723   \n",
       "NM_199246    -1.157603 -0.853996  0.939694 -1.765926  0.000000 -0.832885   \n",
       "...                ...       ...       ...       ...       ...       ...   \n",
       "NM_004185    -0.348659 -0.152684 -0.834357  0.765374  0.000000  0.000000   \n",
       "NM_004232     0.000000  0.000000  0.000000  0.000000  0.000000  0.000000   \n",
       "NM_004217     0.312928  0.821141 -0.488065  0.628933 -0.602056 -0.073617   \n",
       "NM_004226    -0.195291  0.000000  0.577943  0.032632  0.000000 -0.166023   \n",
       "NM_004220     0.000000  0.000000 -0.566173  0.000000  0.000000  0.000000   \n",
       "\n",
       "                 LS180     LS411     MDST8    SW1463  \\\n",
       "NM_021103    -1.008932  0.010219 -0.867050 -1.167274   \n",
       "NM_002165    -2.316883 -0.714432 -1.417058  0.575379   \n",
       "NM_002513    -0.406431 -1.791223 -1.933246 -2.029388   \n",
       "NM_001039842 -0.665963 -1.062795 -2.541358 -1.150794   \n",
       "NM_199246    -0.759741  0.212621 -0.831559 -0.979851   \n",
       "...                ...       ...       ...       ...   \n",
       "NM_004185     0.000000  0.000000  0.000000  1.488374   \n",
       "NM_004232    -0.650310  0.000000  0.000000  0.000000   \n",
       "NM_004217     0.690702  0.324438 -0.001701  0.000000   \n",
       "NM_004226    -0.051205  0.419706 -1.029061  0.000000   \n",
       "NM_004220     0.000000  0.000000 -2.333384  0.000000   \n",
       "\n",
       "                                                          label  Count Overlap  \n",
       "NM_021103     [CL40, COLO320, GTG7, HT55, LOVO, LS180, MDST8...              8  \n",
       "NM_002165     [CL40, GTG7, HT55, HUTU80, LOVO, LS180, LS411,...              8  \n",
       "NM_002513     [COLO320, GTG7, HT55, HUTU80, LOVO, LS411, MDS...              8  \n",
       "NM_001039842  [COLO320, GTG7, HUTU80, LOVO, LS180, LS411, MD...              8  \n",
       "NM_199246     [CL40, COLO320, HT55, LOVO, LS180, MDST8, SW1463]              7  \n",
       "...                                                         ...            ...  \n",
       "NM_004185                                                [GTG7]              1  \n",
       "NM_004232                                               [LS180]              1  \n",
       "NM_004217                                              [HUTU80]              1  \n",
       "NM_004226                                               [MDST8]              1  \n",
       "NM_004220                                               [MDST8]              1  \n",
       "\n",
       "[7083 rows x 12 columns]"
      ]
     },
     "execution_count": 156,
     "metadata": {},
     "output_type": "execute_result"
    }
   ],
   "source": [
    "new_variable = float(name)\n",
    "printmd(\"**Cut-off:**\")\n",
    "print(new_variable)\n",
    "\n",
    "#read files for foldchange criteria\n",
    "if transcript.value == 'mRNA':\n",
    "    all_files = glob.glob('data/*mRNA_change.txt')\n",
    "elif transcript.value == 'lncRNA':\n",
    "    all_files = glob.glob('data/*lncRNA_change.txt')\n",
    "elif transcript.value == 'lncRNA + mRNA':\n",
    "    all_files = glob.glob('data/*_change.txt') \n",
    "list_of_dfs = [pd.read_csv(all_files, sep=\"\\t\").drop(['Gene', 'baseMean','lfcSE','stat','pvalue', 'padj'], 1).set_index('Transcript') for all_files in all_files]\n",
    "\n",
    "#loop for creating a list of datadrames - 1 per file\n",
    "for dataframe, all_file in zip(list_of_dfs, all_files):\n",
    "    all_file2 = all_file[5:].split('_')\n",
    "    dataframe.rename(columns={'log2FoldChange':all_file2[0]}, inplace=True)\n",
    "\n",
    "#Combine all the dfs\n",
    "combined_df = pd.concat(list_of_dfs, axis=1, sort=True)\n",
    "#combined_df_pvalue = pd.concat(list_of_dfs2, axis=1, sort=True)\n",
    "\n",
    "#Create a coloumn named label containing all the cell line intersections based on gene name. Replace \"-1\" by the wanted foldchange\n",
    "combined_df['label'] = (combined_df < new_variable).apply(lambda y: combined_df.columns[y.tolist()].tolist(), axis=1)\n",
    "\n",
    "#Count the number of intersection using \",\" as delimiter\n",
    "combined_df['Count Overlap'] = combined_df['label'].astype(str).str.count(\"\\,\") +1 \n",
    "\n",
    "#Sort based on # of intersections\n",
    "combined_df_sorted = combined_df.sort_values(by=['Count Overlap'], ascending=False)\n",
    "\n",
    "#remove empty intersection\n",
    "combined_df_sorted_clean = combined_df_sorted[~combined_df_sorted['label'].astype(str).str.contains('\\[]')].fillna(0)\n",
    "\n",
    "if transcript.value == 'lncRNA + mRNA':\n",
    "    combined_df_sorted_clean = combined_df_sorted_clean.groupby(combined_df_sorted_clean.columns, axis=1, sort=False).sum()\n",
    "combined_df_sorted_clean"
   ]
  },
  {
   "cell_type": "markdown",
   "metadata": {},
   "source": [
    "## Save the matrix as a excel file:"
   ]
  },
  {
   "cell_type": "code",
   "execution_count": 18,
   "metadata": {},
   "outputs": [],
   "source": [
    "def csv_download_link(df, csv_file_name, delete_prompt=True):\n",
    "    \"\"\"Display a download link to load a data frame as csv from within a Jupyter notebook\"\"\"\n",
    "    df.to_csv(csv_file_name, sep='\\t')\n",
    "    from IPython.display import FileLink\n",
    "    display(FileLink(csv_file_name))\n",
    "csv_download_link(combined_df_sorted_clean, 'matrix_TEAD_lncRNA.csv')   "
   ]
  },
  {
   "cell_type": "markdown",
   "metadata": {},
   "source": [
    "## Visualize Tracks"
   ]
  },
  {
   "cell_type": "code",
   "execution_count": null,
   "metadata": {},
   "outputs": [],
   "source": []
  },
  {
   "cell_type": "code",
   "execution_count": null,
   "metadata": {},
   "outputs": [],
   "source": [
    "import coolbox\n",
    "from coolbox.api import *\n",
    "\n",
    "\n",
    "frame = BigWig(\"tracks/LOVO_TEAD.bam.f.bw\") + TrackHeight(2) + Color(\"#e79e25\")  + Title(\"LOVO_TEAD\") +\\\n",
    "        BigWig(\"tracks/LOVO_TEAD.bam.r.bw\") + TrackHeight(2) + Color(\"#e79e25\")  + Title(\"LOVO_TEAD\") + Inverted() +\\\n",
    "        BigWig(\"tracks/LOVO_GFP.bam.f.bw\") + TrackHeight(2) + Color(\"#e79e25\")  + Title(\"LOVO_GFP\") +\\\n",
    "        BigWig(\"tracks/LOVO_GFP.bam.r.bw\") + TrackHeight(2) + Color(\"#e79e25\")  + Title(\"LOVO_GFP\") + Inverted() +\\\n",
    "        BigWig(\"tracks/LS411_TEAD.bam.f.bw\") + TrackHeight(2) + Color(\"#e79e25\")  + Title(\"LS411_TEAD\") +\\\n",
    "        BigWig(\"tracks/LS411_TEAD.bam.r.bw\") + TrackHeight(2) + Color(\"#e79e25\")  + Title(\"LS411_TEAD\") + Inverted() +\\\n",
    "        BigWig(\"tracks/GTG7_TEAD.bam.f.bw\") + TrackHeight(2) + Color(\"#0f71ae\")  + Title(\"GTG7_TEAD\") +\\\n",
    "        BigWig(\"tracks/GTG7_TEAD.bam.r.bw\") + TrackHeight(2) + Color(\"#0f71ae\")  + Title(\"GTG7_TEAD\") + Inverted() +\\\n",
    "        BigWig(\"tracks/GTG7_GFP.bam.f.bw\") + TrackHeight(2) + Color(\"#0f71ae\")  + Title(\"GTG7_GFP\") +\\\n",
    "        BigWig(\"tracks/GTG7_GFP.bam.r.bw\") + TrackHeight(2) + Color(\"#0f71ae\")  + Title(\"GTG7_GFP\") + Inverted() +\\\n",
    "        BigWig(\"tracks/HT55_TEAD.bam.f.bw\") + TrackHeight(2) + Color(\"#0f71ae\")  + Title(\"HT55_TEAD\") +\\\n",
    "        BigWig(\"tracks/HT55_TEAD.bam.r.bw\") + TrackHeight(2) + Color(\"#0f71ae\")  + Title(\"HT55_TEAD\") + Inverted() +\\\n",
    "        BigWig(\"tracks/HT55_GFP.bam.f.bw\") + TrackHeight(2) + Color(\"#0f71ae\")  + Title(\"HT55_GFP\") +\\\n",
    "        BigWig(\"tracks/HT55_GFP.bam.r.bw\") + TrackHeight(2) + Color(\"#0f71ae\")  + Title(\"HT55_GFP\") + Inverted() +\\\n",
    "        BigWig(\"tracks/SW1463_TEAD.bam.f.bw\") + TrackHeight(2) + Color(\"#0f71ae\")  + Title(\"SW1463_TEAD\") +\\\n",
    "        BigWig(\"tracks/SW1463_TEAD.bam.r.bw\") + TrackHeight(2) + Color(\"#0f71ae\")  + Title(\"SW1463_TEAD\") + Inverted() +\\\n",
    "        BigWig(\"tracks/SW1463_GFP.bam.f.bw\") + TrackHeight(2) + Color(\"#0f71ae\")  + Title(\"SW1463_GFP\") +\\\n",
    "        BigWig(\"tracks/SW1463_GFP.bam.r.bw\") + TrackHeight(2) + Color(\"#0f71ae\")  + Title(\"SW1463_GFP\") + Inverted() +\\\n",
    "        BigWig(\"tracks/CL40_TEAD.bam.f.bw\") + TrackHeight(2) + Color(\"#c47da1\")  + Title(\"CL40_TEAD\") +\\\n",
    "        BigWig(\"tracks/CL40_TEAD.bam.r.bw\") + TrackHeight(2) + Color(\"#c47da1\")  + Title(\"CL40_TEAD\") + Inverted() +\\\n",
    "        BigWig(\"tracks/LS180_TEAD.bam.f.bw\") + TrackHeight(2) + Color(\"#c47da1\")  + Title(\"LS180_TEAD\") +\\\n",
    "        BigWig(\"tracks/LS180_TEAD.bam.r.bw\") + TrackHeight(2) + Color(\"#c47da1\")  + Title(\"LS180_TEAD\") + Inverted() +\\\n",
    "        BigWig(\"tracks/HUTU80_TEAD.bam.f.bw\") + TrackHeight(2) + Color(\"#169c73\")  + Title(\"HUTU80_TEAD\") +\\\n",
    "        BigWig(\"tracks/HUTU80_TEAD.bam.r.bw\") + TrackHeight(2) + Color(\"#169c73\")  + Title(\"HUTU80_TEAD\") + Inverted() +\\\n",
    "        BigWig(\"tracks/HUTU80_GFP.bam.f.bw\") + TrackHeight(2) + Color(\"#169c73\")  + Title(\"HUTU80_GFP\") +\\\n",
    "        BigWig(\"tracks/HUTU80_GFP.bam.r.bw\") + TrackHeight(2) + Color(\"#169c73\")  + Title(\"HUTU80_GFP\") + Inverted() +\\\n",
    "        BigWig(\"tracks/COLO320_TEAD.bam.f.bw\") + TrackHeight(2) + Color(\"#169c73\")  + Title(\"COLO320_TEAD\") +\\\n",
    "        BigWig(\"tracks/COLO320_TEAD.bam.r.bw\") + TrackHeight(2) + Color(\"#169c73\")  + Title(\"COLO320_TEAD\") + Inverted() +\\\n",
    "        BigWig(\"tracks/COLO320_GFP.bam.f.bw\") + TrackHeight(2) + Color(\"#169c73\")  + Title(\"COLO320_GFP\") +\\\n",
    "        BigWig(\"tracks/COLO320_GFP.bam.r.bw\") + TrackHeight(2) + Color(\"#169c73\")  + Title(\"COLO320_GFP\") + Inverted() +\\\n",
    "        BigWig(\"tracks/MDST8_TEAD.bam.f.bw\") + TrackHeight(2) + Color(\"#169c73\")  + Title(\"MDST8_TEAD\") +\\\n",
    "        BigWig(\"tracks/MDST8_TEAD.bam.r.bw\") + TrackHeight(2) + Color(\"#169c73\")  + Title(\"MDST8_TEAD\") + Inverted() +\\\n",
    "        BigWig(\"tracks/MDST8_GFP.bam.f.bw\") + TrackHeight(2) + Color(\"#169c73\")  + Title(\"MDST8_GFP\") +\\\n",
    "        BigWig(\"tracks/MDST8_GFP.bam.r.bw\") + TrackHeight(2) + Color(\"#169c73\")  + Title(\"MDST8_GFP\") + Inverted() \n",
    " \n",
    "frame = XAxis() + frame + XAxis()\n",
    "\n",
    "bsr = Browser(frame)\n",
    "bsr.show()"
   ]
  },
  {
   "cell_type": "markdown",
   "metadata": {},
   "source": [
    "## Generate high quality Fig"
   ]
  },
  {
   "cell_type": "markdown",
   "metadata": {},
   "source": [
    "Do not forget to set the genomic coordinates"
   ]
  },
  {
   "cell_type": "code",
   "execution_count": null,
   "metadata": {},
   "outputs": [],
   "source": [
    "fig = frame.plot(\"chr11\", 64085560-5000, 64089283+5000)\n",
    "fig.savefig('tracks.pdf')"
   ]
  },
  {
   "cell_type": "markdown",
   "metadata": {},
   "source": [
    "## Expression of a specific lncRNA"
   ]
  },
  {
   "cell_type": "code",
   "execution_count": 1,
   "metadata": {
    "collapsed": true
   },
   "outputs": [
    {
     "ename": "NameError",
     "evalue": "name 'combined_df_sorted_clean' is not defined",
     "output_type": "error",
     "traceback": [
      "\u001b[1;31m---------------------------------------------------------------------------\u001b[0m",
      "\u001b[1;31mNameError\u001b[0m                                 Traceback (most recent call last)",
      "\u001b[1;32m<ipython-input-1-133c61d7d0bf>\u001b[0m in \u001b[0;36m<module>\u001b[1;34m\u001b[0m\n\u001b[1;32m----> 1\u001b[1;33m \u001b[0mcombined_df_sorted_clean\u001b[0m\u001b[1;33m.\u001b[0m\u001b[0mloc\u001b[0m\u001b[1;33m[\u001b[0m\u001b[1;34m\"ENSG00000163597.14_2\"\u001b[0m\u001b[1;33m]\u001b[0m\u001b[1;33m\u001b[0m\u001b[1;33m\u001b[0m\u001b[0m\n\u001b[0m",
      "\u001b[1;31mNameError\u001b[0m: name 'combined_df_sorted_clean' is not defined"
     ]
    }
   ],
   "source": [
    "combined_df_sorted_clean.loc[\"ENSG00000163597.14_2\"]"
   ]
  }
 ],
 "metadata": {
  "kernelspec": {
   "display_name": "Python 3",
   "language": "python",
   "name": "python3"
  },
  "language_info": {
   "codemirror_mode": {
    "name": "ipython",
    "version": 3
   },
   "file_extension": ".py",
   "mimetype": "text/x-python",
   "name": "python",
   "nbconvert_exporter": "python",
   "pygments_lexer": "ipython3",
   "version": "3.6.7"
  }
 },
 "nbformat": 4,
 "nbformat_minor": 2
}
